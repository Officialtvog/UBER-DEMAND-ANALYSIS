{
 "cells": [
  {
   "cell_type": "markdown",
   "metadata": {},
   "source": [
    "## UBER DEMAND ANALYSIS\n",
    "\n"
   ]
  },
  {
   "cell_type": "markdown",
   "metadata": {},
   "source": [
    "***I am temitope olanipekun samson the science maniac(Machine learning engineer) & (Data analyst)***\n",
    "\n",
    "***i will be doing a concrete analysis on the (UBER SUPPLY AND DEMAND GAP)***"
   ]
  },
  {
   "cell_type": "markdown",
   "metadata": {},
   "source": [
    "We may have some experience of travelling to and from the airport. We have used Uber or any other cab service for this travel? Did you at any time face the problem of cancellation by the driver or non-availability of cars?\n",
    "\n",
    "Well, if these are the problems faced by customers, these very issues also impact the business of Uber. If drivers cancel the request of riders or if cars are unavailable, Uber loses out on its revenue. Let’s hear more about such problems that Uber faces during its operations."
   ]
  },
  {
   "cell_type": "markdown",
   "metadata": {},
   "source": [
    "## Dataset in Details\n",
    "\n",
    "There are six attributes associated with each request made by a customer:\n",
    "\n",
    "Request id: A unique identifier of the request\n",
    "\n",
    "Time of request: The date and time at which the customer made the trip request\n",
    "\n",
    "Drop-off time: The drop-off date and time, in case the trip was completed\n",
    "\n",
    "Pick-up point: The point from which the request was made\n",
    "\n",
    "Driver id: The unique identification number of the driver\n",
    "\n",
    "Status of the request: The final status of the trip, that can be either completed, cancelled by the driver or no cars available"
   ]
  },
  {
   "cell_type": "markdown",
   "metadata": {},
   "source": [
    "Note: For this case study, only the trips to and from the airport are being considered"
   ]
  },
  {
   "cell_type": "markdown",
   "metadata": {},
   "source": [
    "# AIM\n",
    "\n",
    "The aim of analysis is to identify the root cause of the problem (i.e. cancellation and non-availability of cars) and recommend ways to improve the situation. As a result of your analysis, we will be able to present to the client the root cause(s) and possible hypotheses of the problem(s) and recommend ways to improve them. ."
   ]
  },
  {
   "cell_type": "code",
   "execution_count": null,
   "metadata": {},
   "outputs": [],
   "source": []
  },
  {
   "cell_type": "markdown",
   "metadata": {},
   "source": [
    "## Import the neccesary libraries"
   ]
  },
  {
   "cell_type": "code",
   "execution_count": 40,
   "metadata": {},
   "outputs": [],
   "source": [
    "import numpy as np\n",
    "import pandas as pd\n",
    "from datetime import datetime\n",
    "import seaborn as sns\n",
    "import matplotlib.pyplot as plt\n",
    "import calendar"
   ]
  },
  {
   "cell_type": "markdown",
   "metadata": {},
   "source": [
    "## Reading in the dataset"
   ]
  },
  {
   "cell_type": "code",
   "execution_count": 37,
   "metadata": {},
   "outputs": [
    {
     "data": {
      "text/html": [
       "<div>\n",
       "<style scoped>\n",
       "    .dataframe tbody tr th:only-of-type {\n",
       "        vertical-align: middle;\n",
       "    }\n",
       "\n",
       "    .dataframe tbody tr th {\n",
       "        vertical-align: top;\n",
       "    }\n",
       "\n",
       "    .dataframe thead th {\n",
       "        text-align: right;\n",
       "    }\n",
       "</style>\n",
       "<table border=\"1\" class=\"dataframe\">\n",
       "  <thead>\n",
       "    <tr style=\"text-align: right;\">\n",
       "      <th></th>\n",
       "      <th>Request id</th>\n",
       "      <th>Pickup point</th>\n",
       "      <th>Driver id</th>\n",
       "      <th>Status</th>\n",
       "      <th>Request timestamp</th>\n",
       "      <th>Drop timestamp</th>\n",
       "    </tr>\n",
       "  </thead>\n",
       "  <tbody>\n",
       "    <tr>\n",
       "      <th>0</th>\n",
       "      <td>619</td>\n",
       "      <td>Airport</td>\n",
       "      <td>1.0</td>\n",
       "      <td>Trip Completed</td>\n",
       "      <td>11/7/2016 11:51</td>\n",
       "      <td>11/7/2016 13:00</td>\n",
       "    </tr>\n",
       "    <tr>\n",
       "      <th>1</th>\n",
       "      <td>867</td>\n",
       "      <td>Airport</td>\n",
       "      <td>1.0</td>\n",
       "      <td>Trip Completed</td>\n",
       "      <td>11/7/2016 17:57</td>\n",
       "      <td>11/7/2016 18:47</td>\n",
       "    </tr>\n",
       "    <tr>\n",
       "      <th>2</th>\n",
       "      <td>1807</td>\n",
       "      <td>City</td>\n",
       "      <td>1.0</td>\n",
       "      <td>Trip Completed</td>\n",
       "      <td>12/7/2016 9:17</td>\n",
       "      <td>12/7/2016 9:58</td>\n",
       "    </tr>\n",
       "    <tr>\n",
       "      <th>3</th>\n",
       "      <td>2532</td>\n",
       "      <td>Airport</td>\n",
       "      <td>1.0</td>\n",
       "      <td>Trip Completed</td>\n",
       "      <td>12/7/2016 21:08</td>\n",
       "      <td>12/7/2016 22:03</td>\n",
       "    </tr>\n",
       "    <tr>\n",
       "      <th>4</th>\n",
       "      <td>3112</td>\n",
       "      <td>City</td>\n",
       "      <td>1.0</td>\n",
       "      <td>Trip Completed</td>\n",
       "      <td>13-07-2016 08:33:16</td>\n",
       "      <td>13-07-2016 09:25:47</td>\n",
       "    </tr>\n",
       "    <tr>\n",
       "      <th>5</th>\n",
       "      <td>3879</td>\n",
       "      <td>Airport</td>\n",
       "      <td>1.0</td>\n",
       "      <td>Trip Completed</td>\n",
       "      <td>13-07-2016 21:57:28</td>\n",
       "      <td>13-07-2016 22:28:59</td>\n",
       "    </tr>\n",
       "    <tr>\n",
       "      <th>6</th>\n",
       "      <td>4270</td>\n",
       "      <td>Airport</td>\n",
       "      <td>1.0</td>\n",
       "      <td>Trip Completed</td>\n",
       "      <td>14-07-2016 06:15:32</td>\n",
       "      <td>14-07-2016 07:13:15</td>\n",
       "    </tr>\n",
       "    <tr>\n",
       "      <th>7</th>\n",
       "      <td>5510</td>\n",
       "      <td>Airport</td>\n",
       "      <td>1.0</td>\n",
       "      <td>Trip Completed</td>\n",
       "      <td>15-07-2016 05:11:52</td>\n",
       "      <td>15-07-2016 06:07:52</td>\n",
       "    </tr>\n",
       "    <tr>\n",
       "      <th>8</th>\n",
       "      <td>6248</td>\n",
       "      <td>City</td>\n",
       "      <td>1.0</td>\n",
       "      <td>Trip Completed</td>\n",
       "      <td>15-07-2016 17:57:27</td>\n",
       "      <td>15-07-2016 18:50:51</td>\n",
       "    </tr>\n",
       "  </tbody>\n",
       "</table>\n",
       "</div>"
      ],
      "text/plain": [
       "   Request id Pickup point  Driver id          Status    Request timestamp  \\\n",
       "0         619      Airport        1.0  Trip Completed      11/7/2016 11:51   \n",
       "1         867      Airport        1.0  Trip Completed      11/7/2016 17:57   \n",
       "2        1807         City        1.0  Trip Completed       12/7/2016 9:17   \n",
       "3        2532      Airport        1.0  Trip Completed      12/7/2016 21:08   \n",
       "4        3112         City        1.0  Trip Completed  13-07-2016 08:33:16   \n",
       "5        3879      Airport        1.0  Trip Completed  13-07-2016 21:57:28   \n",
       "6        4270      Airport        1.0  Trip Completed  14-07-2016 06:15:32   \n",
       "7        5510      Airport        1.0  Trip Completed  15-07-2016 05:11:52   \n",
       "8        6248         City        1.0  Trip Completed  15-07-2016 17:57:27   \n",
       "\n",
       "        Drop timestamp  \n",
       "0      11/7/2016 13:00  \n",
       "1      11/7/2016 18:47  \n",
       "2       12/7/2016 9:58  \n",
       "3      12/7/2016 22:03  \n",
       "4  13-07-2016 09:25:47  \n",
       "5  13-07-2016 22:28:59  \n",
       "6  14-07-2016 07:13:15  \n",
       "7  15-07-2016 06:07:52  \n",
       "8  15-07-2016 18:50:51  "
      ]
     },
     "execution_count": 37,
     "metadata": {},
     "output_type": "execute_result"
    }
   ],
   "source": [
    "df = pd.read_csv(\"UBER ANALYSIS BASED ON DEMAND.csv\")\n",
    "df.head(9)"
   ]
  },
  {
   "cell_type": "markdown",
   "metadata": {},
   "source": [
    "So to get informations of our dataset is also important,so i also made sure i used the function to find that out"
   ]
  },
  {
   "cell_type": "code",
   "execution_count": 38,
   "metadata": {},
   "outputs": [
    {
     "name": "stdout",
     "output_type": "stream",
     "text": [
      "<class 'pandas.core.frame.DataFrame'>\n",
      "RangeIndex: 6745 entries, 0 to 6744\n",
      "Data columns (total 6 columns):\n",
      " #   Column             Non-Null Count  Dtype  \n",
      "---  ------             --------------  -----  \n",
      " 0   Request id         6745 non-null   int64  \n",
      " 1   Pickup point       6745 non-null   object \n",
      " 2   Driver id          4095 non-null   float64\n",
      " 3   Status             6745 non-null   object \n",
      " 4   Request timestamp  6745 non-null   object \n",
      " 5   Drop timestamp     2831 non-null   object \n",
      "dtypes: float64(1), int64(1), object(4)\n",
      "memory usage: 316.3+ KB\n"
     ]
    }
   ],
   "source": [
    "df.info()"
   ]
  },
  {
   "cell_type": "markdown",
   "metadata": {},
   "source": [
    "## Cleaning the data properly and do proper imuting"
   ]
  },
  {
   "cell_type": "code",
   "execution_count": 41,
   "metadata": {},
   "outputs": [
    {
     "data": {
      "text/html": [
       "<div>\n",
       "<style scoped>\n",
       "    .dataframe tbody tr th:only-of-type {\n",
       "        vertical-align: middle;\n",
       "    }\n",
       "\n",
       "    .dataframe tbody tr th {\n",
       "        vertical-align: top;\n",
       "    }\n",
       "\n",
       "    .dataframe thead th {\n",
       "        text-align: right;\n",
       "    }\n",
       "</style>\n",
       "<table border=\"1\" class=\"dataframe\">\n",
       "  <thead>\n",
       "    <tr style=\"text-align: right;\">\n",
       "      <th></th>\n",
       "      <th>Request id</th>\n",
       "      <th>Pickup point</th>\n",
       "      <th>Driver id</th>\n",
       "      <th>Status</th>\n",
       "      <th>Request timestamp</th>\n",
       "      <th>Drop timestamp</th>\n",
       "      <th>Request timeOfDay</th>\n",
       "      <th>Request Date</th>\n",
       "      <th>Request wkOfDay</th>\n",
       "      <th>No of Requests</th>\n",
       "    </tr>\n",
       "  </thead>\n",
       "  <tbody>\n",
       "    <tr>\n",
       "      <th>0</th>\n",
       "      <td>619</td>\n",
       "      <td>Airport</td>\n",
       "      <td>1.0</td>\n",
       "      <td>Trip Completed</td>\n",
       "      <td>2016-11-07 11:51:00</td>\n",
       "      <td>2016-11-07 13:00:00</td>\n",
       "      <td>11:51:00</td>\n",
       "      <td>2016-11-07</td>\n",
       "      <td>Monday</td>\n",
       "      <td>1</td>\n",
       "    </tr>\n",
       "    <tr>\n",
       "      <th>1</th>\n",
       "      <td>867</td>\n",
       "      <td>Airport</td>\n",
       "      <td>1.0</td>\n",
       "      <td>Trip Completed</td>\n",
       "      <td>2016-11-07 17:57:00</td>\n",
       "      <td>2016-11-07 18:47:00</td>\n",
       "      <td>17:57:00</td>\n",
       "      <td>2016-11-07</td>\n",
       "      <td>Monday</td>\n",
       "      <td>1</td>\n",
       "    </tr>\n",
       "    <tr>\n",
       "      <th>2</th>\n",
       "      <td>1807</td>\n",
       "      <td>City</td>\n",
       "      <td>1.0</td>\n",
       "      <td>Trip Completed</td>\n",
       "      <td>2016-12-07 09:17:00</td>\n",
       "      <td>2016-12-07 09:58:00</td>\n",
       "      <td>09:17:00</td>\n",
       "      <td>2016-12-07</td>\n",
       "      <td>Wednesday</td>\n",
       "      <td>1</td>\n",
       "    </tr>\n",
       "    <tr>\n",
       "      <th>3</th>\n",
       "      <td>2532</td>\n",
       "      <td>Airport</td>\n",
       "      <td>1.0</td>\n",
       "      <td>Trip Completed</td>\n",
       "      <td>2016-12-07 21:08:00</td>\n",
       "      <td>2016-12-07 22:03:00</td>\n",
       "      <td>21:08:00</td>\n",
       "      <td>2016-12-07</td>\n",
       "      <td>Wednesday</td>\n",
       "      <td>1</td>\n",
       "    </tr>\n",
       "    <tr>\n",
       "      <th>4</th>\n",
       "      <td>3112</td>\n",
       "      <td>City</td>\n",
       "      <td>1.0</td>\n",
       "      <td>Trip Completed</td>\n",
       "      <td>2016-07-13 08:33:16</td>\n",
       "      <td>2016-07-13 09:25:47</td>\n",
       "      <td>08:33:16</td>\n",
       "      <td>2016-07-13</td>\n",
       "      <td>Wednesday</td>\n",
       "      <td>1</td>\n",
       "    </tr>\n",
       "  </tbody>\n",
       "</table>\n",
       "</div>"
      ],
      "text/plain": [
       "   Request id Pickup point  Driver id          Status   Request timestamp  \\\n",
       "0         619      Airport        1.0  Trip Completed 2016-11-07 11:51:00   \n",
       "1         867      Airport        1.0  Trip Completed 2016-11-07 17:57:00   \n",
       "2        1807         City        1.0  Trip Completed 2016-12-07 09:17:00   \n",
       "3        2532      Airport        1.0  Trip Completed 2016-12-07 21:08:00   \n",
       "4        3112         City        1.0  Trip Completed 2016-07-13 08:33:16   \n",
       "\n",
       "       Drop timestamp Request timeOfDay Request Date Request wkOfDay  \\\n",
       "0 2016-11-07 13:00:00          11:51:00   2016-11-07          Monday   \n",
       "1 2016-11-07 18:47:00          17:57:00   2016-11-07          Monday   \n",
       "2 2016-12-07 09:58:00          09:17:00   2016-12-07       Wednesday   \n",
       "3 2016-12-07 22:03:00          21:08:00   2016-12-07       Wednesday   \n",
       "4 2016-07-13 09:25:47          08:33:16   2016-07-13       Wednesday   \n",
       "\n",
       "   No of Requests  \n",
       "0               1  \n",
       "1               1  \n",
       "2               1  \n",
       "3               1  \n",
       "4               1  "
      ]
     },
     "execution_count": 41,
     "metadata": {},
     "output_type": "execute_result"
    }
   ],
   "source": [
    "# Cleaning and imuting data\n",
    "# Check for expected datetime columns, in this case; 'Request timestamp', 'Drop timestamp'\n",
    "df['Request timestamp'] = pd.to_datetime(df['Request timestamp'])\n",
    "df['Drop timestamp'] = pd.to_datetime(df['Drop timestamp'])\n",
    "\n",
    "# dropping the duplicates -- though no duplicates present\n",
    "df = df.drop_duplicates()\n",
    "\n",
    "# Getting only the time Of Day of Pickup Point to view the frequency throughout the day\n",
    "df['Request timeOfDay'] = df['Request timestamp'].dt.time\n",
    "df['Request Date'] = df['Request timestamp'].dt.date\n",
    "\n",
    "df['Request wkOfDay'] = df['Request timestamp'].dt.date.apply(lambda x: calendar.day_name[x.weekday()])\n",
    "\n",
    "df['No of Requests'] = 1\n",
    "df.head()"
   ]
  },
  {
   "cell_type": "markdown",
   "metadata": {},
   "source": [
    "Getting the total number of cars avaliable,the number of trips completed and also the trips cancelled"
   ]
  },
  {
   "cell_type": "code",
   "execution_count": 42,
   "metadata": {},
   "outputs": [
    {
     "data": {
      "text/html": [
       "<div>\n",
       "<style scoped>\n",
       "    .dataframe tbody tr th:only-of-type {\n",
       "        vertical-align: middle;\n",
       "    }\n",
       "\n",
       "    .dataframe tbody tr th {\n",
       "        vertical-align: top;\n",
       "    }\n",
       "\n",
       "    .dataframe thead th {\n",
       "        text-align: right;\n",
       "    }\n",
       "</style>\n",
       "<table border=\"1\" class=\"dataframe\">\n",
       "  <thead>\n",
       "    <tr style=\"text-align: right;\">\n",
       "      <th></th>\n",
       "      <th>Status</th>\n",
       "      <th>Request id</th>\n",
       "    </tr>\n",
       "  </thead>\n",
       "  <tbody>\n",
       "    <tr>\n",
       "      <th>0</th>\n",
       "      <td>Cancelled</td>\n",
       "      <td>1264</td>\n",
       "    </tr>\n",
       "    <tr>\n",
       "      <th>1</th>\n",
       "      <td>No Cars Available</td>\n",
       "      <td>2650</td>\n",
       "    </tr>\n",
       "    <tr>\n",
       "      <th>2</th>\n",
       "      <td>Trip Completed</td>\n",
       "      <td>2831</td>\n",
       "    </tr>\n",
       "  </tbody>\n",
       "</table>\n",
       "</div>"
      ],
      "text/plain": [
       "              Status  Request id\n",
       "0          Cancelled        1264\n",
       "1  No Cars Available        2650\n",
       "2     Trip Completed        2831"
      ]
     },
     "execution_count": 42,
     "metadata": {},
     "output_type": "execute_result"
    }
   ],
   "source": [
    "dfTotal = df.groupby(by = ['Status'])['Request id'].count().reset_index()\n",
    "dfTotal.head()"
   ]
  },
  {
   "cell_type": "markdown",
   "metadata": {},
   "source": [
    "## Analysing supply demand gap over a given date"
   ]
  },
  {
   "cell_type": "code",
   "execution_count": 43,
   "metadata": {},
   "outputs": [
    {
     "data": {
      "text/plain": [
       "Text(0.5, 1.0, 'Avg Uber Supply Demand Analysis per given date')"
      ]
     },
     "execution_count": 43,
     "metadata": {},
     "output_type": "execute_result"
    },
    {
     "data": {
      "image/png": "[encoded data removed]",
      "text/plain": [
       "<Figure size 720x576 with 1 Axes>"
      ]
     },
     "metadata": {
      "needs_background": "light"
     },
     "output_type": "display_data"
    }
   ],
   "source": [
    "dfGrp = df.groupby(by = ['Request Date', 'Status'])['No of Requests'].count().reset_index()\n",
    "dfGrp\n",
    "\n",
    "reqPrcntageList = list()\n",
    "for x in dfGrp.index:\n",
    "    #reqPrcntageList.append(sum(dfGrp['No of Requests'].loc[dfGrp['Request Date'] == dfGrp.loc[x, 'Request Date']]))\n",
    "    reqPrcntageList.append(round(dfGrp.loc[x, 'No of Requests'] * 100 /  sum(dfGrp['No of Requests'].loc[dfGrp['Request Date'] == dfGrp.loc[x, 'Request Date']]), 2))\n",
    "\n",
    "dfGrp['DayPercentage'] = reqPrcntageList\n",
    "dfGrp\n",
    "\n",
    "plt.figure(figsize=(10,8))\n",
    "sns.barplot(x = 'Request Date', y = 'DayPercentage', hue = 'Status', data = dfGrp)\n",
    "plt.title('Avg Uber Supply Demand Analysis per given date')"
   ]
  },
  {
   "cell_type": "markdown",
   "metadata": {},
   "source": [
    "## Analysing the demand supply gap over the week"
   ]
  },
  {
   "cell_type": "code",
   "execution_count": 44,
   "metadata": {},
   "outputs": [
    {
     "data": {
      "text/plain": [
       "Text(0.5, 1.0, 'Average Uber Supply Demand Analysis per the day of Week')"
      ]
     },
     "execution_count": 44,
     "metadata": {},
     "output_type": "execute_result"
    },
    {
     "data": {
      "image/png": "[encoded data removed]",
      "text/plain": [
       "<Figure size 720x576 with 1 Axes>"
      ]
     },
     "metadata": {
      "needs_background": "light"
     },
     "output_type": "display_data"
    }
   ],
   "source": [
    "dfGrp = df.groupby(by = ['Request wkOfDay', 'Status'])['No of Requests'].count().reset_index()\n",
    "\n",
    "\n",
    "reqPrcntageList = list()\n",
    "for x in dfGrp.index:\n",
    "    #reqPrcntageList.append(sum(dfGrp['No of Requests'].loc[dfGrp['Request Date'] == dfGrp.loc[x, 'Request Date']]))\n",
    "    reqPrcntageList.append(round(dfGrp.loc[x, 'No of Requests'] * 100 /  sum(dfGrp['No of Requests'].loc[dfGrp['Request wkOfDay'] == dfGrp.loc[x, 'Request wkOfDay']]), 2))\n",
    "\n",
    "dfGrp['DayPercentagePerDayOfWk'] = reqPrcntageList\n",
    "plt.figure(figsize=(10,8))\n",
    "sns.barplot(x = 'Request wkOfDay', y = 'DayPercentagePerDayOfWk', hue = 'Status', data = dfGrp)\n",
    "plt.title('Average Uber Supply Demand Analysis per the day of Week')"
   ]
  },
  {
   "cell_type": "markdown",
   "metadata": {},
   "source": [
    "## Observations from the above plot:\n",
    "### In overall,\n",
    "#### Point 1: Thursday and Friday having most cars unavailability\n",
    "#### Point 2: Monday and Wednesdays serving most number of successful trip\n",
    "#### Point 3: Of all days, Cancellation are steady at below 20%"
   ]
  },
  {
   "cell_type": "markdown",
   "metadata": {},
   "source": [
    "# Analysing Demand Supply Gap over the day of week - From Airport to City"
   ]
  },
  {
   "cell_type": "markdown",
   "metadata": {},
   "source": [
    "## Analysing Cars availability from Airport to City and City to Airport  prespective.."
   ]
  },
  {
   "cell_type": "code",
   "execution_count": 45,
   "metadata": {},
   "outputs": [
    {
     "data": {
      "text/plain": [
       "Text(0, 0.5, 'Avg calcuations per day')"
      ]
     },
     "execution_count": 45,
     "metadata": {},
     "output_type": "execute_result"
    },
    {
     "data": {
      "image/png": "[encoded data removed]",
      "text/plain": [
       "<Figure size 720x576 with 1 Axes>"
      ]
     },
     "metadata": {
      "needs_background": "light"
     },
     "output_type": "display_data"
    }
   ],
   "source": [
    "# Analysing Cars availability from 'Airport To City' and 'City To Airport' prespective.\n",
    "\n",
    "dfGrp = df.groupby(by = ['Request wkOfDay', 'Status', 'Pickup point'])['No of Requests'].count().reset_index()\n",
    "dfGrpAirport = dfGrp.loc[dfGrp['Pickup point'] == 'Airport'].reset_index()\n",
    "\n",
    "reqPrcntageList = list()\n",
    "for x in dfGrpAirport.index:\n",
    "    #reqPrcntageList.append(sum(dfGrp['No of Requests'].loc[dfGrp['Request Date'] == dfGrp.loc[x, 'Request Date']]))\n",
    "    reqPrcntageList.append(round(dfGrpAirport.loc[x, 'No of Requests'] * 100 /  sum(dfGrpAirport['No of Requests'].loc[dfGrpAirport['Request wkOfDay'] == dfGrpAirport.loc[x, 'Request wkOfDay']]), 2))\n",
    "\n",
    "dfGrpAirport['DayPercentage'] = reqPrcntageList\n",
    "dfGrpAirport\n",
    "\n",
    "plt.figure(figsize=(10,8))\n",
    "sns.barplot(x = 'Request wkOfDay', y = 'DayPercentage', hue = 'Status', data = dfGrpAirport)\n",
    "plt.title('Cars availability on day of the week - From \"Airport\" to \"City\"')\n",
    "plt.ylabel('Avg calcuations per day')"
   ]
  },
  {
   "cell_type": "markdown",
   "metadata": {},
   "source": [
    "## Observations from above plot:\n",
    "### Observations:\n",
    "#### 1. Cancellations at Airport is much less compared to City\n",
    "#### 2. Usually Thursdays at airport having more cars unavailability and less successful trips compared to other days\n",
    "#### 3.Friday has more cars available but still has same number of trips completed with monday and wednesday\n",
    "\n",
    " ## QUESTION TO ASK\n",
    " ***Why is that happenning on friday,having more cars and still having the sane number of trips completed compared to***\n",
    "  ***to days like mondays and wednesdays who have  slightly less cars and still complete the same number of trips***\n",
    "  "
   ]
  },
  {
   "cell_type": "markdown",
   "metadata": {},
   "source": [
    "# Analysing Demand Supply Gap over the day of week - From City to Airport"
   ]
  },
  {
   "cell_type": "code",
   "execution_count": 46,
   "metadata": {},
   "outputs": [
    {
     "data": {
      "text/plain": [
       "Text(0, 0.5, 'Avg calcuations per day')"
      ]
     },
     "execution_count": 46,
     "metadata": {},
     "output_type": "execute_result"
    },
    {
     "data": {
      "image/png": "[encoded data removed]",
      "text/plain": [
       "<Figure size 720x576 with 1 Axes>"
      ]
     },
     "metadata": {
      "needs_background": "light"
     },
     "output_type": "display_data"
    }
   ],
   "source": [
    "dfGrp = df.groupby(by = ['Request wkOfDay', 'Status', 'Pickup point'])['No of Requests'].count().reset_index()\n",
    "dfGrpCity = dfGrp.loc[dfGrp['Pickup point'] == 'City'].reset_index()\n",
    "\n",
    "reqPrcntageList = list()\n",
    "for x in dfGrpCity.index:\n",
    "    reqPrcntageList.append(round(dfGrpCity.loc[x, 'No of Requests'] * 100 /  sum(dfGrpCity['No of Requests'].loc[dfGrpCity['Request wkOfDay'] == dfGrpCity.loc[x, 'Request wkOfDay']]), 2))\n",
    "\n",
    "dfGrpCity['DayPercentage'] = reqPrcntageList\n",
    "dfGrpCity\n",
    "\n",
    "plt.figure(figsize=(10,8))\n",
    "sns.barplot(x = 'Request wkOfDay', y = 'DayPercentage', hue = 'Status', data = dfGrpCity)\n",
    "plt.title('Cars availability on day of the week - From \"City\" to \"Airport\"')\n",
    "plt.ylabel('Avg calcuations per day')"
   ]
  },
  {
   "cell_type": "markdown",
   "metadata": {},
   "source": [
    "\n",
    "### Observations:\n",
    "#### 1. Usually successful trips are more from City to Airport; compared to Airport to City\n",
    "##### 1. Question to Ask: Why cars are returning empty\n",
    "### 2. Cancellations to go to the airport are more; compared to no cars availability\n",
    "### 3. Monday being the huge money maker from City to Airport"
   ]
  },
  {
   "cell_type": "markdown",
   "metadata": {},
   "source": [
    "# Analysing typical cars supply demand stats throughout the day"
   ]
  },
  {
   "cell_type": "code",
   "execution_count": 47,
   "metadata": {},
   "outputs": [
    {
     "data": {
      "text/plain": [
       "Text(0, 0.5, 'Total number of orders')"
      ]
     },
     "execution_count": 47,
     "metadata": {},
     "output_type": "execute_result"
    },
    {
     "data": {
      "image/png": "[encoded data removed]",
      "text/plain": [
       "<Figure size 720x576 with 1 Axes>"
      ]
     },
     "metadata": {
      "needs_background": "light"
     },
     "output_type": "display_data"
    }
   ],
   "source": [
    "df['Request Hour'] = df['Request timestamp'].dt.hour + 1\n",
    "dfGrp = df.groupby(by = ['Status', 'Request Hour'])['No of Requests'].count().unstack()\n",
    "\n",
    "dfGrp = dfGrp.T\n",
    "dfGrp['Total Requests'] = dfGrp['Cancelled'] + dfGrp['No Cars Available'] + dfGrp['Trip Completed']\n",
    "dfGrp.plot(kind = 'bar', figsize=(10,8))\n",
    "plt.title('Total pickup orders Vs Supply Demand Plot')\n",
    "plt.ylabel('Total number of orders')"
   ]
  },
  {
   "cell_type": "code",
   "execution_count": 48,
   "metadata": {},
   "outputs": [
    {
     "data": {
      "text/plain": [
       "Text(0.5, 1.0, 'Exact Supply Demand Gap')"
      ]
     },
     "execution_count": 48,
     "metadata": {},
     "output_type": "execute_result"
    },
    {
     "data": {
      "image/png": "[encoded data removed]",
      "text/plain": [
       "<Figure size 720x576 with 1 Axes>"
      ]
     },
     "metadata": {
      "needs_background": "light"
     },
     "output_type": "display_data"
    }
   ],
   "source": [
    "dfGrp['Supply Gap'] = dfGrp['Total Requests'] - dfGrp['Trip Completed']\n",
    "dfGrpSubSet = dfGrp.loc[:, ['Total Requests', 'Supply Gap']]\n",
    "dfGrpSubSet.plot(kind = 'bar', figsize=(10,8))\n",
    "plt.ylabel('Total number of orders')\n",
    "plt.title('Exact Supply Demand Gap')"
   ]
  },
  {
   "cell_type": "markdown",
   "metadata": {},
   "source": [
    "## Insights:\n",
    "### Observations:\n",
    "#### 1. Most number of Pickup orders are received from 4AM onwards till 11AM; and then 5AM onwards till 11PM\n",
    "#### 2. In morning high peak time slot, we have more number of Cancellations and have same level number of Successful Trips too.\n",
    "#### 3. Whereas in evening high peak time slot, we have more cars unavailability whereas Successful trips are being maintained at steady level throughout the hours of day"
   ]
  },
  {
   "cell_type": "markdown",
   "metadata": {},
   "source": [
    "# Analysing typical Supply Demand plot for the course of day from/to Airport/City\n",
    "## ============== FROM AIRPORT TO CITY =============="
   ]
  },
  {
   "cell_type": "markdown",
   "metadata": {},
   "source": [
    "In this analysis every single hour is accounted for........................\n",
    "\n",
    "you can taake a good look at the pickup point,Status, Request Hour, and NO of requests....."
   ]
  },
  {
   "cell_type": "code",
   "execution_count": 49,
   "metadata": {},
   "outputs": [
    {
     "data": {
      "text/html": [
       "<div>\n",
       "<style scoped>\n",
       "    .dataframe tbody tr th:only-of-type {\n",
       "        vertical-align: middle;\n",
       "    }\n",
       "\n",
       "    .dataframe tbody tr th {\n",
       "        vertical-align: top;\n",
       "    }\n",
       "\n",
       "    .dataframe thead th {\n",
       "        text-align: right;\n",
       "    }\n",
       "</style>\n",
       "<table border=\"1\" class=\"dataframe\">\n",
       "  <thead>\n",
       "    <tr style=\"text-align: right;\">\n",
       "      <th></th>\n",
       "      <th>Request Hour</th>\n",
       "      <th>1</th>\n",
       "      <th>2</th>\n",
       "      <th>3</th>\n",
       "      <th>4</th>\n",
       "      <th>5</th>\n",
       "      <th>6</th>\n",
       "      <th>7</th>\n",
       "      <th>8</th>\n",
       "      <th>9</th>\n",
       "      <th>10</th>\n",
       "      <th>...</th>\n",
       "      <th>15</th>\n",
       "      <th>16</th>\n",
       "      <th>17</th>\n",
       "      <th>18</th>\n",
       "      <th>19</th>\n",
       "      <th>20</th>\n",
       "      <th>21</th>\n",
       "      <th>22</th>\n",
       "      <th>23</th>\n",
       "      <th>24</th>\n",
       "    </tr>\n",
       "    <tr>\n",
       "      <th>Pickup point</th>\n",
       "      <th>Status</th>\n",
       "      <th></th>\n",
       "      <th></th>\n",
       "      <th></th>\n",
       "      <th></th>\n",
       "      <th></th>\n",
       "      <th></th>\n",
       "      <th></th>\n",
       "      <th></th>\n",
       "      <th></th>\n",
       "      <th></th>\n",
       "      <th></th>\n",
       "      <th></th>\n",
       "      <th></th>\n",
       "      <th></th>\n",
       "      <th></th>\n",
       "      <th></th>\n",
       "      <th></th>\n",
       "      <th></th>\n",
       "      <th></th>\n",
       "      <th></th>\n",
       "      <th></th>\n",
       "    </tr>\n",
       "  </thead>\n",
       "  <tbody>\n",
       "    <tr>\n",
       "      <th rowspan=\"3\" valign=\"top\">Airport</th>\n",
       "      <th>Cancelled</th>\n",
       "      <td>0.0</td>\n",
       "      <td>0.0</td>\n",
       "      <td>0.0</td>\n",
       "      <td>0.0</td>\n",
       "      <td>2.0</td>\n",
       "      <td>4.0</td>\n",
       "      <td>4.0</td>\n",
       "      <td>5.0</td>\n",
       "      <td>2.0</td>\n",
       "      <td>8.0</td>\n",
       "      <td>...</td>\n",
       "      <td>6.0</td>\n",
       "      <td>11.0</td>\n",
       "      <td>14.0</td>\n",
       "      <td>19.0</td>\n",
       "      <td>15.0</td>\n",
       "      <td>15.0</td>\n",
       "      <td>29.0</td>\n",
       "      <td>28.0</td>\n",
       "      <td>3.0</td>\n",
       "      <td>0.0</td>\n",
       "    </tr>\n",
       "    <tr>\n",
       "      <th>No Cars Available</th>\n",
       "      <td>30.0</td>\n",
       "      <td>29.0</td>\n",
       "      <td>25.0</td>\n",
       "      <td>30.0</td>\n",
       "      <td>34.0</td>\n",
       "      <td>3.0</td>\n",
       "      <td>4.0</td>\n",
       "      <td>3.0</td>\n",
       "      <td>4.0</td>\n",
       "      <td>7.0</td>\n",
       "      <td>...</td>\n",
       "      <td>7.0</td>\n",
       "      <td>13.0</td>\n",
       "      <td>9.0</td>\n",
       "      <td>215.0</td>\n",
       "      <td>309.0</td>\n",
       "      <td>268.0</td>\n",
       "      <td>275.0</td>\n",
       "      <td>254.0</td>\n",
       "      <td>100.0</td>\n",
       "      <td>36.0</td>\n",
       "    </tr>\n",
       "    <tr>\n",
       "      <th>Trip Completed</th>\n",
       "      <td>23.0</td>\n",
       "      <td>13.0</td>\n",
       "      <td>16.0</td>\n",
       "      <td>15.0</td>\n",
       "      <td>36.0</td>\n",
       "      <td>85.0</td>\n",
       "      <td>81.0</td>\n",
       "      <td>75.0</td>\n",
       "      <td>67.0</td>\n",
       "      <td>74.0</td>\n",
       "      <td>...</td>\n",
       "      <td>37.0</td>\n",
       "      <td>52.0</td>\n",
       "      <td>38.0</td>\n",
       "      <td>74.0</td>\n",
       "      <td>81.0</td>\n",
       "      <td>83.0</td>\n",
       "      <td>74.0</td>\n",
       "      <td>61.0</td>\n",
       "      <td>80.0</td>\n",
       "      <td>62.0</td>\n",
       "    </tr>\n",
       "    <tr>\n",
       "      <th rowspan=\"3\" valign=\"top\">City</th>\n",
       "      <th>Cancelled</th>\n",
       "      <td>3.0</td>\n",
       "      <td>4.0</td>\n",
       "      <td>5.0</td>\n",
       "      <td>2.0</td>\n",
       "      <td>49.0</td>\n",
       "      <td>172.0</td>\n",
       "      <td>141.0</td>\n",
       "      <td>164.0</td>\n",
       "      <td>176.0</td>\n",
       "      <td>167.0</td>\n",
       "      <td>...</td>\n",
       "      <td>5.0</td>\n",
       "      <td>10.0</td>\n",
       "      <td>8.0</td>\n",
       "      <td>16.0</td>\n",
       "      <td>9.0</td>\n",
       "      <td>9.0</td>\n",
       "      <td>12.0</td>\n",
       "      <td>14.0</td>\n",
       "      <td>9.0</td>\n",
       "      <td>10.0</td>\n",
       "    </tr>\n",
       "    <tr>\n",
       "      <th>No Cars Available</th>\n",
       "      <td>26.0</td>\n",
       "      <td>27.0</td>\n",
       "      <td>32.0</td>\n",
       "      <td>26.0</td>\n",
       "      <td>40.0</td>\n",
       "      <td>81.0</td>\n",
       "      <td>82.0</td>\n",
       "      <td>60.0</td>\n",
       "      <td>86.0</td>\n",
       "      <td>76.0</td>\n",
       "      <td>...</td>\n",
       "      <td>30.0</td>\n",
       "      <td>35.0</td>\n",
       "      <td>37.0</td>\n",
       "      <td>17.0</td>\n",
       "      <td>13.0</td>\n",
       "      <td>15.0</td>\n",
       "      <td>15.0</td>\n",
       "      <td>11.0</td>\n",
       "      <td>38.0</td>\n",
       "      <td>45.0</td>\n",
       "    </tr>\n",
       "    <tr>\n",
       "      <th>Trip Completed</th>\n",
       "      <td>17.0</td>\n",
       "      <td>12.0</td>\n",
       "      <td>21.0</td>\n",
       "      <td>19.0</td>\n",
       "      <td>42.0</td>\n",
       "      <td>100.0</td>\n",
       "      <td>86.0</td>\n",
       "      <td>99.0</td>\n",
       "      <td>88.0</td>\n",
       "      <td>99.0</td>\n",
       "      <td>...</td>\n",
       "      <td>51.0</td>\n",
       "      <td>50.0</td>\n",
       "      <td>53.0</td>\n",
       "      <td>77.0</td>\n",
       "      <td>83.0</td>\n",
       "      <td>83.0</td>\n",
       "      <td>87.0</td>\n",
       "      <td>81.0</td>\n",
       "      <td>74.0</td>\n",
       "      <td>41.0</td>\n",
       "    </tr>\n",
       "  </tbody>\n",
       "</table>\n",
       "<p>6 rows × 24 columns</p>\n",
       "</div>"
      ],
      "text/plain": [
       "Request Hour                      1     2     3     4     5      6      7   \\\n",
       "Pickup point Status                                                          \n",
       "Airport      Cancelled           0.0   0.0   0.0   0.0   2.0    4.0    4.0   \n",
       "             No Cars Available  30.0  29.0  25.0  30.0  34.0    3.0    4.0   \n",
       "             Trip Completed     23.0  13.0  16.0  15.0  36.0   85.0   81.0   \n",
       "City         Cancelled           3.0   4.0   5.0   2.0  49.0  172.0  141.0   \n",
       "             No Cars Available  26.0  27.0  32.0  26.0  40.0   81.0   82.0   \n",
       "             Trip Completed     17.0  12.0  21.0  19.0  42.0  100.0   86.0   \n",
       "\n",
       "Request Hour                       8      9      10  ...    15    16    17  \\\n",
       "Pickup point Status                                  ...                     \n",
       "Airport      Cancelled            5.0    2.0    8.0  ...   6.0  11.0  14.0   \n",
       "             No Cars Available    3.0    4.0    7.0  ...   7.0  13.0   9.0   \n",
       "             Trip Completed      75.0   67.0   74.0  ...  37.0  52.0  38.0   \n",
       "City         Cancelled          164.0  176.0  167.0  ...   5.0  10.0   8.0   \n",
       "             No Cars Available   60.0   86.0   76.0  ...  30.0  35.0  37.0   \n",
       "             Trip Completed      99.0   88.0   99.0  ...  51.0  50.0  53.0   \n",
       "\n",
       "Request Hour                       18     19     20     21     22     23    24  \n",
       "Pickup point Status                                                             \n",
       "Airport      Cancelled           19.0   15.0   15.0   29.0   28.0    3.0   0.0  \n",
       "             No Cars Available  215.0  309.0  268.0  275.0  254.0  100.0  36.0  \n",
       "             Trip Completed      74.0   81.0   83.0   74.0   61.0   80.0  62.0  \n",
       "City         Cancelled           16.0    9.0    9.0   12.0   14.0    9.0  10.0  \n",
       "             No Cars Available   17.0   13.0   15.0   15.0   11.0   38.0  45.0  \n",
       "             Trip Completed      77.0   83.0   83.0   87.0   81.0   74.0  41.0  \n",
       "\n",
       "[6 rows x 24 columns]"
      ]
     },
     "execution_count": 49,
     "metadata": {},
     "output_type": "execute_result"
    }
   ],
   "source": [
    "dfGrp1 = df.groupby(by = ['Pickup point', 'Status', 'Request Hour'])['No of Requests'].count().unstack()\n",
    "dfGrp1 = dfGrp1.fillna(0)\n",
    "dfGrp1"
   ]
  },
  {
   "cell_type": "code",
   "execution_count": 50,
   "metadata": {},
   "outputs": [
    {
     "data": {
      "text/plain": [
       "Text(0.5, 1.0, 'Supply Demand plot for the day at Airport')"
      ]
     },
     "execution_count": 50,
     "metadata": {},
     "output_type": "execute_result"
    },
    {
     "data": {
      "image/png": "[encoded data removed]",
      "text/plain": [
       "<Figure size 720x576 with 1 Axes>"
      ]
     },
     "metadata": {
      "needs_background": "light"
     },
     "output_type": "display_data"
    }
   ],
   "source": [
    "dfGrp1.loc['Airport'].T.plot(kind = 'bar', figsize = (10,8))\n",
    "plt.ylabel('Number of requests')\n",
    "plt.title('Supply Demand plot for the day at Airport')"
   ]
  },
  {
   "cell_type": "code",
   "execution_count": 51,
   "metadata": {},
   "outputs": [
    {
     "data": {
      "text/plain": [
       "Text(0, 0.5, 'Total number of requests')"
      ]
     },
     "execution_count": 51,
     "metadata": {},
     "output_type": "execute_result"
    },
    {
     "data": {
      "image/png": "[encoded data removed]",
      "text/plain": [
       "<Figure size 720x576 with 1 Axes>"
      ]
     },
     "metadata": {
      "needs_background": "light"
     },
     "output_type": "display_data"
    }
   ],
   "source": [
    "dfGrpAirport = dfGrp1.loc['Airport'].T\n",
    "\n",
    "dfGrpAirport['Total Requests'] = dfGrpAirport['Cancelled'] +  dfGrpAirport['No Cars Available'] + dfGrpAirport['Trip Completed']\n",
    "dfGrpAirport['SupplyGap'] = dfGrpAirport['Total Requests'] - dfGrpAirport['Cancelled'] +  dfGrpAirport['No Cars Available']\n",
    "dfGrpAirport.head()\n",
    "\n",
    "dfGrpAirport.loc[:, ['Total Requests', 'SupplyGap']].plot(kind = 'bar', figsize=(10,8))\n",
    "plt.title('Demand Supply Gap analysis from \"Airport\" to \"City\"')\n",
    "plt.ylabel('Total number of requests')"
   ]
  },
  {
   "cell_type": "code",
   "execution_count": 52,
   "metadata": {},
   "outputs": [
    {
     "data": {
      "text/plain": [
       "Text(0.5, 1.0, 'Supply Demand plot for the day at City')"
      ]
     },
     "execution_count": 52,
     "metadata": {},
     "output_type": "execute_result"
    },
    {
     "data": {
      "image/png": "[encoded data removed]",
      "text/plain": [
       "<Figure size 720x576 with 1 Axes>"
      ]
     },
     "metadata": {
      "needs_background": "light"
     },
     "output_type": "display_data"
    }
   ],
   "source": [
    "dfGrp1.loc['City'].T.plot(kind = 'bar', figsize=(10,8))\n",
    "plt.ylabel('Number of requests')\n",
    "plt.title('Supply Demand plot for the day at City')"
   ]
  },
  {
   "cell_type": "code",
   "execution_count": 53,
   "metadata": {},
   "outputs": [
    {
     "data": {
      "text/plain": [
       "Text(0, 0.5, 'Total number of requests')"
      ]
     },
     "execution_count": 53,
     "metadata": {},
     "output_type": "execute_result"
    },
    {
     "data": {
      "image/png": "[encoded data removed]",
      "text/plain": [
       "<Figure size 720x576 with 1 Axes>"
      ]
     },
     "metadata": {
      "needs_background": "light"
     },
     "output_type": "display_data"
    }
   ],
   "source": [
    "dfGrpCity = dfGrp1.loc['City'].T\n",
    "\n",
    "dfGrpCity['Total Requests'] = dfGrpCity['Cancelled'] +  dfGrpCity['No Cars Available'] + dfGrpCity['Trip Completed']\n",
    "dfGrpCity['SupplyGap'] = dfGrpCity['Total Requests'] - dfGrpCity['Cancelled'] +  dfGrpCity['No Cars Available']\n",
    "dfGrpCity.head()\n",
    "\n",
    "dfGrpCity.loc[:, ['Total Requests', 'SupplyGap']].plot(kind = 'bar', figsize=(10,8))\n",
    "plt.title('Demand Supply Gap analysis from \"City\" to \"Airport\"')\n",
    "plt.ylabel('Total number of requests')"
   ]
  },
  {
   "cell_type": "markdown",
   "metadata": {},
   "source": [
    "Let make dig out some facts for you to dwell with and its based on the supply and demand gap\n",
    "\n",
    "***Correlating these two visualizations,(demand supply gap from airport to city and demand supply gap from city to***\n",
    "\n",
    "***airport) a possible hypothesis could be***:\n",
    "\n",
    "The demand during morning and afternoon hours from the Airport to City is quite low, which means that a driver who\n",
    "\n",
    "completed a City to Airport route in the morning hours may have to wait a really long time to get a ride back to\n",
    "\n",
    "the City, or he may have to come back without a passenger. Both situations are not idle for drivers, which might be\n",
    "\n",
    "the reason for highest number of \"Cancelled\" trips in the City to Airport trip in the morning hours or\n",
    "\n",
    "we can say these is a result of maybe slow response based on the fact that most customers want to get to their\n",
    "\n",
    "required location very fast....and would cancle because the uber drivers didnt get to them in time and so they\n",
    "\n",
    "settled for an alternative..\n",
    "\n",
    "The vice versa happens in evening when there are too many flight coming in to the airport and hence there is a high\n",
    "\n",
    "demand for cabs and not enough supply. which is why most number of \"No Cars Available\" were observed in Evening in\n",
    "\n",
    "the Airport to City route.\n",
    "\n",
    "I am sure we should be able  to understand that am trying to talk from the both perspective of the  drivers and the\n",
    "\n",
    "passengers though...."
   ]
  },
  {
   "cell_type": "markdown",
   "metadata": {},
   "source": [
    " ## So here are the possible solutions\n",
    "Possible Solution:\n",
    "\n",
    "Give incentives/surge pricing/bonus for trips from City to Airport during Morning hours.\n",
    "\n",
    "Give incentives/surge pricing/bonus for trips from Airport to City during Evening hours.\n",
    "\n",
    "Drivers can find alternatives routes when making their movements to avoid traffic incase they need to meet up with\n",
    "\n",
    "a passenger\n",
    "\n",
    "Uber can give Gas expense to drivers when they return from Airport without a ride or go to airpot for pick up \n",
    "\n",
    "without a ride.\n",
    "\n",
    "Uber can increase market share by marketing campaigns and offers to customers when demand is low.\n",
    "\n",
    "\n",
    "Like i said possible solutions :::TAKE NOTE OF THAT:::\n",
    "\n",
    "I hope i ahev being able to give you some insights  as regards this data.....\n",
    "\n",
    "pls do well to comment if you can and most defintely gain something from this .....\n",
    "\n",
    "I AM TEMITOPE OLANIPEKUN SAMSON (DATA SCIENCE MANIAC) {MACHINE LEARNING ENGINEER AND DATA ANALYST)"
   ]
  },
  {
   "cell_type": "code",
   "execution_count": null,
   "metadata": {},
   "outputs": [],
   "source": []
  },
  {
   "cell_type": "code",
   "execution_count": null,
   "metadata": {},
   "outputs": [],
   "source": []
  }
 ],
 "metadata": {
  "kernelspec": {
   "display_name": "Python 3",
   "language": "python",
   "name": "python3"
  },
  "language_info": {
   "codemirror_mode": {
    "name": "ipython",
    "version": 3
   },
   "file_extension": ".py",
   "mimetype": "text/x-python",
   "name": "python",
   "nbconvert_exporter": "python",
   "pygments_lexer": "ipython3",
   "version": "3.7.6"
  }
 },
 "nbformat": 4,
 "nbformat_minor": 4
}
